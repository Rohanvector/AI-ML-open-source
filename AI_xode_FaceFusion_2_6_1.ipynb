{
  "cells": [
    {
      "cell_type": "markdown",
      "metadata": {
        "id": "view-in-github",
        "colab_type": "text"
      },
      "source": [
        "<a href=\"https://colab.research.google.com/github/Rohanvector/AI-ML-open-source/blob/main/AI_xode_FaceFusion_2_6_1.ipynb\" target=\"_parent\"><img src=\"https://colab.research.google.com/assets/colab-badge.svg\" alt=\"Open In Colab\"/></a>"
      ]
    },
    {
      "cell_type": "markdown",
      "source": [
        "<p>&nbsp;👇 Subscribe To My Channel For More AI Updates And Tutorials 👇</p><p><a href=\"https://www.youtube.com/@BahaaAI\" target=\"_blank\">@BahaaAI</a></p><div class=\"separator\" style=\"clear: both; text-align: center;\"><a href=\"https://blogger.googleusercontent.com/img/b/R29vZ2xl/AVvXsEib466daRFdGSKLhVpThmDsCccsGzdFE7-kWKcdN9I7tkgTZTq6uLIdJkDm-HQXSE3EXGW35cQj4r7__KOAcI9idy7Y-Cltg6kRmTQtYoaRhxPkj4r3BFP3llMx42admhdbnnKeU5-uW4y7-3D35Qhfshhtcb8XQNtZx8m_dWwzo3R0THNbZAxaJj9aUf4/s500/profile.jpg\" style=\"margin-left: 1em; margin-right: 1em;\"><img border=\"0\" data-original-height=\"500\" data-original-width=\"500\" height=\"200\" src=\"https://blogger.googleusercontent.com/img/b/R29vZ2xl/AVvXsEib466daRFdGSKLhVpThmDsCccsGzdFE7-kWKcdN9I7tkgTZTq6uLIdJkDm-HQXSE3EXGW35cQj4r7__KOAcI9idy7Y-Cltg6kRmTQtYoaRhxPkj4r3BFP3llMx42admhdbnnKeU5-uW4y7-3D35Qhfshhtcb8XQNtZx8m_dWwzo3R0THNbZAxaJj9aUf4/w200-h200/profile.jpg\" width=\"200\" /></a></div>"
      ],
      "metadata": {
        "id": "-sE1ly7jcn1l"
      }
    },
    {
      "cell_type": "markdown",
      "source": [
        "---\n",
        "\n",
        "**Last Update : 14 September 2024**\n",
        "\n",
        "---"
      ],
      "metadata": {
        "id": "CzF2tF238ahA"
      }
    },
    {
      "cell_type": "code",
      "execution_count": 1,
      "metadata": {
        "id": "ZlrnUA3i3gMB",
        "outputId": "52c08e41-c70d-4da7-d1dc-2b235474f2ca",
        "colab": {
          "base_uri": "https://localhost:8080/"
        }
      },
      "outputs": [
        {
          "output_type": "stream",
          "name": "stdout",
          "text": [
            "Installed!\n"
          ]
        }
      ],
      "source": [
        "#@markdown # Step 1 (6 Minutes)\n",
        "\n",
        "from IPython.display import clear_output\n",
        "import torch\n",
        "import codecs\n",
        "\n",
        "if torch.cuda.is_available():\n",
        "  !apt-get update\n",
        "  !apt-get install -y nvidia-cuda-toolkit\n",
        "  device=\"cuda\"\n",
        "  print(\"Using GPU\")\n",
        "else:\n",
        "  device=\"cpu\"\n",
        "  print(\"Using CPU\")\n",
        "\n",
        "\n",
        "git_repo_rot13 = 'uggcf://tvguho.pbz/fcyraqbezntvp/ss_onunnnv'\n",
        "git_repo = codecs.decode(git_repo_rot13, 'rot 13')\n",
        "\n",
        "!git clone $git_repo --single-branch\n",
        "\n",
        "directory_rot13 = 'ss_onunnnv'\n",
        "directory = codecs.decode(directory_rot13, 'rot 13')\n",
        "\n",
        "%cd /content/$directory\n",
        "!python install.py --onnxruntime cuda-12.2 --skip-conda\n",
        "\n",
        "clear_output()\n",
        "print(\"Installed!\")"
      ]
    },
    {
      "cell_type": "code",
      "source": [
        "# Replace 'your_directory' with the name of the cloned repository folder\n",
        "!zip -r repo.zip /content/ff_bahaaai"
      ],
      "metadata": {
        "id": "StGLLXzTQxNZ",
        "outputId": "5cbaabc3-4bf2-441e-a57d-976154ea9dd3",
        "colab": {
          "base_uri": "https://localhost:8080/"
        }
      },
      "execution_count": 2,
      "outputs": [
        {
          "output_type": "stream",
          "name": "stdout",
          "text": [
            "  adding: content/ff_bahaaai/ (stored 0%)\n",
            "  adding: content/ff_bahaaai/mypy.ini (deflated 39%)\n",
            "  adding: content/ff_bahaaai/.flake8 (deflated 1%)\n",
            "  adding: content/ff_bahaaai/.gitignore (stored 0%)\n",
            "  adding: content/ff_bahaaai/LICENSE.md (stored 0%)\n",
            "  adding: content/ff_bahaaai/run.py (deflated 5%)\n",
            "  adding: content/ff_bahaaai/requirements.txt (deflated 22%)\n",
            "  adding: content/ff_bahaaai/tests/ (stored 0%)\n",
            "  adding: content/ff_bahaaai/tests/test_cli_lip_syncer.py (deflated 69%)\n",
            "  adding: content/ff_bahaaai/tests/test_execution.py (deflated 69%)\n",
            "  adding: content/ff_bahaaai/tests/test_normalizer.py (deflated 80%)\n",
            "  adding: content/ff_bahaaai/tests/test_cli_frame_enhancer.py (deflated 67%)\n",
            "  adding: content/ff_bahaaai/tests/test_filesystem.py (deflated 80%)\n",
            "  adding: content/ff_bahaaai/tests/test_vision.py (deflated 81%)\n",
            "  adding: content/ff_bahaaai/tests/test_cli_frame_colorizer.py (deflated 69%)\n",
            "  adding: content/ff_bahaaai/tests/test_download.py (deflated 71%)\n",
            "  adding: content/ff_bahaaai/tests/test_audio.py (deflated 64%)\n",
            "  adding: content/ff_bahaaai/tests/__init__.py (stored 0%)\n",
            "  adding: content/ff_bahaaai/tests/test_wording.py (deflated 35%)\n",
            "  adding: content/ff_bahaaai/tests/test_cli_face_debugger.py (deflated 66%)\n",
            "  adding: content/ff_bahaaai/tests/test_memory.py (deflated 45%)\n",
            "  adding: content/ff_bahaaai/tests/test_cli_face_swapper.py (deflated 68%)\n",
            "  adding: content/ff_bahaaai/tests/test_config.py (deflated 79%)\n",
            "  adding: content/ff_bahaaai/tests/test_process_manager.py (deflated 59%)\n",
            "  adding: content/ff_bahaaai/tests/test_cli_face_enhancer.py (deflated 67%)\n",
            "  adding: content/ff_bahaaai/tests/test_ffmpeg.py (deflated 81%)\n",
            "  adding: content/ff_bahaaai/tests/test_face_analyser.py (deflated 81%)\n",
            "  adding: content/ff_bahaaai/tests/test_common_helper.py (deflated 61%)\n",
            "  adding: content/ff_bahaaai/facefusion.ini (deflated 63%)\n",
            "  adding: content/ff_bahaaai/.editorconfig (deflated 26%)\n",
            "  adding: content/ff_bahaaai/.git/ (stored 0%)\n",
            "  adding: content/ff_bahaaai/.git/hooks/ (stored 0%)\n",
            "  adding: content/ff_bahaaai/.git/hooks/post-update.sample (deflated 27%)\n",
            "  adding: content/ff_bahaaai/.git/hooks/pre-push.sample (deflated 49%)\n",
            "  adding: content/ff_bahaaai/.git/hooks/pre-applypatch.sample (deflated 38%)\n",
            "  adding: content/ff_bahaaai/.git/hooks/pre-receive.sample (deflated 40%)\n",
            "  adding: content/ff_bahaaai/.git/hooks/update.sample (deflated 68%)\n",
            "  adding: content/ff_bahaaai/.git/hooks/fsmonitor-watchman.sample (deflated 62%)\n",
            "  adding: content/ff_bahaaai/.git/hooks/pre-merge-commit.sample (deflated 39%)\n",
            "  adding: content/ff_bahaaai/.git/hooks/applypatch-msg.sample (deflated 42%)\n",
            "  adding: content/ff_bahaaai/.git/hooks/push-to-checkout.sample (deflated 55%)\n",
            "  adding: content/ff_bahaaai/.git/hooks/prepare-commit-msg.sample (deflated 50%)\n",
            "  adding: content/ff_bahaaai/.git/hooks/pre-commit.sample (deflated 45%)\n",
            "  adding: content/ff_bahaaai/.git/hooks/pre-rebase.sample (deflated 59%)\n",
            "  adding: content/ff_bahaaai/.git/hooks/commit-msg.sample (deflated 44%)\n",
            "  adding: content/ff_bahaaai/.git/branches/ (stored 0%)\n",
            "  adding: content/ff_bahaaai/.git/description (deflated 14%)\n",
            "  adding: content/ff_bahaaai/.git/config (deflated 35%)\n",
            "  adding: content/ff_bahaaai/.git/index (deflated 60%)\n",
            "  adding: content/ff_bahaaai/.git/logs/ (stored 0%)\n",
            "  adding: content/ff_bahaaai/.git/logs/HEAD (deflated 28%)\n",
            "  adding: content/ff_bahaaai/.git/logs/refs/ (stored 0%)\n",
            "  adding: content/ff_bahaaai/.git/logs/refs/heads/ (stored 0%)\n",
            "  adding: content/ff_bahaaai/.git/logs/refs/heads/main (deflated 28%)\n",
            "  adding: content/ff_bahaaai/.git/logs/refs/remotes/ (stored 0%)\n",
            "  adding: content/ff_bahaaai/.git/logs/refs/remotes/origin/ (stored 0%)\n",
            "  adding: content/ff_bahaaai/.git/logs/refs/remotes/origin/HEAD (deflated 28%)\n",
            "  adding: content/ff_bahaaai/.git/packed-refs (deflated 9%)\n",
            "  adding: content/ff_bahaaai/.git/HEAD (stored 0%)\n",
            "  adding: content/ff_bahaaai/.git/info/ (stored 0%)\n",
            "  adding: content/ff_bahaaai/.git/info/exclude (deflated 28%)\n",
            "  adding: content/ff_bahaaai/.git/refs/ (stored 0%)\n",
            "  adding: content/ff_bahaaai/.git/refs/heads/ (stored 0%)\n",
            "  adding: content/ff_bahaaai/.git/refs/heads/main (stored 0%)\n",
            "  adding: content/ff_bahaaai/.git/refs/remotes/ (stored 0%)\n",
            "  adding: content/ff_bahaaai/.git/refs/remotes/origin/ (stored 0%)\n",
            "  adding: content/ff_bahaaai/.git/refs/remotes/origin/HEAD (stored 0%)\n",
            "  adding: content/ff_bahaaai/.git/refs/tags/ (stored 0%)\n",
            "  adding: content/ff_bahaaai/.git/objects/ (stored 0%)\n",
            "  adding: content/ff_bahaaai/.git/objects/pack/ (stored 0%)\n",
            "  adding: content/ff_bahaaai/.git/objects/pack/pack-a09f529324fe571f37700b2f48df942e833d5a65.pack (deflated 0%)\n",
            "  adding: content/ff_bahaaai/.git/objects/pack/pack-a09f529324fe571f37700b2f48df942e833d5a65.idx (deflated 18%)\n",
            "  adding: content/ff_bahaaai/.git/objects/info/ (stored 0%)\n",
            "  adding: content/ff_bahaaai/.install/ (stored 0%)\n",
            "  adding: content/ff_bahaaai/.install/LICENSE.md (stored 0%)\n",
            "  adding: content/ff_bahaaai/.install/facefusion.nsi (deflated 71%)\n",
            "  adding: content/ff_bahaaai/.install/facefusion.ico (deflated 32%)\n",
            "  adding: content/ff_bahaaai/install.py (deflated 24%)\n",
            "  adding: content/ff_bahaaai/.github/ (stored 0%)\n",
            "  adding: content/ff_bahaaai/.github/FUNDING.yml (deflated 17%)\n",
            "  adding: content/ff_bahaaai/.github/preview.png (deflated 2%)\n",
            "  adding: content/ff_bahaaai/.github/workflows/ (stored 0%)\n",
            "  adding: content/ff_bahaaai/.github/workflows/ci.yml (deflated 59%)\n",
            "  adding: content/ff_bahaaai/.gitattributes (deflated 6%)\n",
            "  adding: content/ff_bahaaai/README.md (stored 0%)\n",
            "  adding: content/ff_bahaaai/facefusion/ (stored 0%)\n",
            "  adding: content/ff_bahaaai/facefusion/vision.py (deflated 78%)\n",
            "  adding: content/ff_bahaaai/facefusion/wording.py (deflated 72%)\n",
            "  adding: content/ff_bahaaai/facefusion/common_helper.py (deflated 62%)\n",
            "  adding: content/ff_bahaaai/facefusion/installer.py (deflated 65%)\n",
            "  adding: content/ff_bahaaai/facefusion/statistics.py (deflated 71%)\n",
            "  adding: content/ff_bahaaai/facefusion/globals.py (deflated 71%)\n",
            "  adding: content/ff_bahaaai/facefusion/content_analyser.py (deflated 64%)\n",
            "  adding: content/ff_bahaaai/facefusion/choices.py (deflated 65%)\n",
            "  adding: content/ff_bahaaai/facefusion/process_manager.py (deflated 67%)\n",
            "  adding: content/ff_bahaaai/facefusion/processors/ (stored 0%)\n",
            "  adding: content/ff_bahaaai/facefusion/processors/frame/ (stored 0%)\n",
            "  adding: content/ff_bahaaai/facefusion/processors/frame/globals.py (deflated 67%)\n",
            "  adding: content/ff_bahaaai/facefusion/processors/frame/modules/ (stored 0%)\n",
            "  adding: content/ff_bahaaai/facefusion/processors/frame/modules/frame_enhancer.py (deflated 77%)\n",
            "  adding: content/ff_bahaaai/facefusion/processors/frame/modules/frame_colorizer.py (deflated 77%)\n",
            "  adding: content/ff_bahaaai/facefusion/processors/frame/modules/face_debugger.py (deflated 77%)\n",
            "  adding: content/ff_bahaaai/facefusion/processors/frame/modules/__init__.py (stored 0%)\n",
            "  adding: content/ff_bahaaai/facefusion/processors/frame/modules/face_enhancer.py (deflated 77%)\n",
            "  adding: content/ff_bahaaai/facefusion/processors/frame/modules/lip_syncer.py (deflated 74%)\n",
            "  adding: content/ff_bahaaai/facefusion/processors/frame/modules/face_swapper.py (deflated 78%)\n",
            "  adding: content/ff_bahaaai/facefusion/processors/frame/choices.py (deflated 64%)\n",
            "  adding: content/ff_bahaaai/facefusion/processors/frame/__init__.py (stored 0%)\n",
            "  adding: content/ff_bahaaai/facefusion/processors/frame/typings.py (deflated 69%)\n",
            "  adding: content/ff_bahaaai/facefusion/processors/frame/core.py (deflated 70%)\n",
            "  adding: content/ff_bahaaai/facefusion/processors/__init__.py (stored 0%)\n",
            "  adding: content/ff_bahaaai/facefusion/uis/ (stored 0%)\n",
            "  adding: content/ff_bahaaai/facefusion/uis/choices.py (deflated 40%)\n",
            "  adding: content/ff_bahaaai/facefusion/uis/layouts/ (stored 0%)\n",
            "  adding: content/ff_bahaaai/facefusion/uis/layouts/benchmark.py (deflated 75%)\n",
            "  adding: content/ff_bahaaai/facefusion/uis/layouts/webcam.py (deflated 68%)\n",
            "  adding: content/ff_bahaaai/facefusion/uis/layouts/default.py (deflated 75%)\n",
            "  adding: content/ff_bahaaai/facefusion/uis/__init__.py (stored 0%)\n",
            "  adding: content/ff_bahaaai/facefusion/uis/overrides.py (deflated 43%)\n",
            "  adding: content/ff_bahaaai/facefusion/uis/components/ (stored 0%)\n",
            "  adding: content/ff_bahaaai/facefusion/uis/components/temp_frame.py (deflated 64%)\n",
            "  adding: content/ff_bahaaai/facefusion/uis/components/common_options.py (deflated 62%)\n",
            "  adding: content/ff_bahaaai/facefusion/uis/components/benchmark.py (deflated 70%)\n",
            "  adding: content/ff_bahaaai/facefusion/uis/components/source.py (deflated 71%)\n",
            "  adding: content/ff_bahaaai/facefusion/uis/components/webcam_options.py (deflated 65%)\n",
            "  adding: content/ff_bahaaai/facefusion/uis/components/execution_thread_count.py (deflated 66%)\n",
            "  adding: content/ff_bahaaai/facefusion/uis/components/webcam.py (deflated 68%)\n",
            "  adding: content/ff_bahaaai/facefusion/uis/components/memory.py (deflated 71%)\n",
            "  adding: content/ff_bahaaai/facefusion/uis/components/benchmark_options.py (deflated 61%)\n",
            "  adding: content/ff_bahaaai/facefusion/uis/components/output.py (deflated 76%)\n",
            "  adding: content/ff_bahaaai/facefusion/uis/components/face_analyser.py (deflated 82%)\n",
            "  adding: content/ff_bahaaai/facefusion/uis/components/__init__.py (stored 0%)\n",
            "  adding: content/ff_bahaaai/facefusion/uis/components/face_masker.py (deflated 84%)\n",
            "  adding: content/ff_bahaaai/facefusion/uis/components/preview.py (deflated 81%)\n",
            "  adding: content/ff_bahaaai/facefusion/uis/components/frame_processors_options.py (deflated 86%)\n",
            "  adding: content/ff_bahaaai/facefusion/uis/components/frame_processors.py (deflated 70%)\n",
            "  adding: content/ff_bahaaai/facefusion/uis/components/execution.py (deflated 68%)\n",
            "  adding: content/ff_bahaaai/facefusion/uis/components/target.py (deflated 72%)\n",
            "  adding: content/ff_bahaaai/facefusion/uis/components/face_selector.py (deflated 79%)\n",
            "  adding: content/ff_bahaaai/facefusion/uis/components/trim_frame.py (deflated 75%)\n",
            "  adding: content/ff_bahaaai/facefusion/uis/components/about.py (deflated 49%)\n",
            "  adding: content/ff_bahaaai/facefusion/uis/components/output_options.py (deflated 85%)\n",
            "  adding: content/ff_bahaaai/facefusion/uis/components/execution_queue_count.py (deflated 66%)\n",
            "  adding: content/ff_bahaaai/facefusion/uis/assets/ (stored 0%)\n",
            "  adding: content/ff_bahaaai/facefusion/uis/assets/overrides.css (deflated 63%)\n",
            "  adding: content/ff_bahaaai/facefusion/uis/assets/fixes.css (deflated 8%)\n",
            "  adding: content/ff_bahaaai/facefusion/uis/core.py (deflated 73%)\n",
            "  adding: content/ff_bahaaai/facefusion/uis/typing.py (deflated 68%)\n",
            "  adding: content/ff_bahaaai/facefusion/memory.py (deflated 52%)\n",
            "  adding: content/ff_bahaaai/facefusion/face_analyser.py (deflated 84%)\n",
            "  adding: content/ff_bahaaai/facefusion/thread_helper.py (deflated 56%)\n",
            "  adding: content/ff_bahaaai/facefusion/face_store.py (deflated 68%)\n",
            "  adding: content/ff_bahaaai/facefusion/voice_extractor.py (deflated 74%)\n",
            "  adding: content/ff_bahaaai/facefusion/__init__.py (stored 0%)\n",
            "  adding: content/ff_bahaaai/facefusion/face_masker.py (deflated 71%)\n",
            "  adding: content/ff_bahaaai/facefusion/__pycache__/ (stored 0%)\n",
            "  adding: content/ff_bahaaai/facefusion/__pycache__/common_helper.cpython-310.pyc (deflated 48%)\n",
            "  adding: content/ff_bahaaai/facefusion/__pycache__/wording.cpython-310.pyc (deflated 59%)\n",
            "  adding: content/ff_bahaaai/facefusion/__pycache__/metadata.cpython-310.pyc (deflated 26%)\n",
            "  adding: content/ff_bahaaai/facefusion/__pycache__/installer.cpython-310.pyc (deflated 38%)\n",
            "  adding: content/ff_bahaaai/facefusion/__pycache__/__init__.cpython-310.pyc (deflated 24%)\n",
            "  adding: content/ff_bahaaai/facefusion/execution.py (deflated 71%)\n",
            "  adding: content/ff_bahaaai/facefusion/config.py (deflated 77%)\n",
            "  adding: content/ff_bahaaai/facefusion/ffmpeg.py (deflated 77%)\n",
            "  adding: content/ff_bahaaai/facefusion/normalizer.py (deflated 68%)\n",
            "  adding: content/ff_bahaaai/facefusion/metadata.py (deflated 25%)\n",
            "  adding: content/ff_bahaaai/facefusion/download.py (deflated 59%)\n",
            "  adding: content/ff_bahaaai/facefusion/logger.py (deflated 65%)\n",
            "  adding: content/ff_bahaaai/facefusion/core.py (deflated 83%)\n",
            "  adding: content/ff_bahaaai/facefusion/face_helper.py (deflated 71%)\n",
            "  adding: content/ff_bahaaai/facefusion/filesystem.py (deflated 74%)\n",
            "  adding: content/ff_bahaaai/facefusion/audio.py (deflated 73%)\n",
            "  adding: content/ff_bahaaai/facefusion/typing.py (deflated 66%)\n"
          ]
        }
      ]
    },
    {
      "cell_type": "code",
      "source": [
        "from google.colab import files\n",
        "\n",
        "# Download the zip file\n",
        "files.download('repo.zip')\n"
      ],
      "metadata": {
        "id": "xSLoWbsQQxdY",
        "outputId": "32be1e28-764a-4e84-d9cc-6eaabc8de137",
        "colab": {
          "base_uri": "https://localhost:8080/",
          "height": 17
        }
      },
      "execution_count": 3,
      "outputs": [
        {
          "output_type": "display_data",
          "data": {
            "text/plain": [
              "<IPython.core.display.Javascript object>"
            ],
            "application/javascript": [
              "\n",
              "    async function download(id, filename, size) {\n",
              "      if (!google.colab.kernel.accessAllowed) {\n",
              "        return;\n",
              "      }\n",
              "      const div = document.createElement('div');\n",
              "      const label = document.createElement('label');\n",
              "      label.textContent = `Downloading \"${filename}\": `;\n",
              "      div.appendChild(label);\n",
              "      const progress = document.createElement('progress');\n",
              "      progress.max = size;\n",
              "      div.appendChild(progress);\n",
              "      document.body.appendChild(div);\n",
              "\n",
              "      const buffers = [];\n",
              "      let downloaded = 0;\n",
              "\n",
              "      const channel = await google.colab.kernel.comms.open(id);\n",
              "      // Send a message to notify the kernel that we're ready.\n",
              "      channel.send({})\n",
              "\n",
              "      for await (const message of channel.messages) {\n",
              "        // Send a message to notify the kernel that we're ready.\n",
              "        channel.send({})\n",
              "        if (message.buffers) {\n",
              "          for (const buffer of message.buffers) {\n",
              "            buffers.push(buffer);\n",
              "            downloaded += buffer.byteLength;\n",
              "            progress.value = downloaded;\n",
              "          }\n",
              "        }\n",
              "      }\n",
              "      const blob = new Blob(buffers, {type: 'application/binary'});\n",
              "      const a = document.createElement('a');\n",
              "      a.href = window.URL.createObjectURL(blob);\n",
              "      a.download = filename;\n",
              "      div.appendChild(a);\n",
              "      a.click();\n",
              "      div.remove();\n",
              "    }\n",
              "  "
            ]
          },
          "metadata": {}
        },
        {
          "output_type": "display_data",
          "data": {
            "text/plain": [
              "<IPython.core.display.Javascript object>"
            ],
            "application/javascript": [
              "download(\"download_e5846160-61a2-4397-93fc-f4ecd70ffec8\", \"repo.zip\", 2654165)"
            ]
          },
          "metadata": {}
        }
      ]
    },
    {
      "cell_type": "code",
      "source": [
        "from google.colab import drive\n",
        "drive.mount('/content/drive')"
      ],
      "metadata": {
        "id": "83NKyV8-OdzA"
      },
      "execution_count": null,
      "outputs": []
    },
    {
      "cell_type": "markdown",
      "source": [
        "---\n",
        "\n",
        "**Running FaceFusion 2.6.1**\n",
        "\n",
        "---"
      ],
      "metadata": {
        "id": "2gSXQ8Rj_N-M"
      }
    },
    {
      "cell_type": "code",
      "execution_count": null,
      "metadata": {
        "id": "YVHiNI-bb6IB"
      },
      "outputs": [],
      "source": [
        "#@markdown # Option 1 : Running On Gradio\n",
        "#@markdown _Wait for downloading components, Then open the Gradio link that will appear_\n",
        "\n",
        "import codecs\n",
        "import re\n",
        "\n",
        "%cd /content/$directory\n",
        "\n",
        "Tunnel = \"Gradio\"\n",
        "\n",
        "if Tunnel == \"Gradio\":\n",
        "  file_path_ui_rot13 = \"/pbagrag/ss_onunnnv/snprshfvba/hvf/ynlbhgf/qrsnhyg.cl\"\n",
        "  file_path_ui = codecs.decode(file_path_ui_rot13, 'rot 13')\n",
        "  !sed -i 's/quiet = True/quiet=True,share=True/g' $file_path_ui\n",
        "elif Tunnel == \"Ngrok\":\n",
        "  !sed -i 's/quiet=True,share=True/quiet = True/g' $file_path_ui\n",
        "  !pip install pyngrok\n",
        "  from pyngrok import ngrok\n",
        "  ngrok.set_auth_token(ngrok_tunnel_authtoken)\n",
        "  http_tunnel = ngrok.connect(7860, bind_tls=True)\n",
        "  clear_output()\n",
        "  print(\"Ngrok Tunnel Public URL:\", http_tunnel.public_url)\n",
        "elif Tunnel == \"Cloudfare\":\n",
        "  !sed -i 's/quiet=True,share=True/quiet = True/g' $file_path_ui\n",
        "  # download cloudfare\n",
        "  !curl -LO https://github.com/cloudflare/cloudflared/releases/latest/download/cloudflared-linux-amd64.deb\n",
        "  !dpkg -i cloudflared-linux-amd64.deb\n",
        "  !rm -rf nohup.out\n",
        "  import time\n",
        "  # Run cloudflare\n",
        "  !nohup cloudflared tunnel --url localhost:7860 &\n",
        "  clear_output()\n",
        "  time.sleep(5)\n",
        "  # Find and print the Cloudflare URL with a prefix\n",
        "  cloudflare_url = !grep -oE \"https://[a-zA-Z0-9.-]+\\.trycloudflare\\.com\" nohup.out\n",
        "  print(f\"Cloudfare Tunnel Public URL: {cloudflare_url[0]}\")\n",
        "elif Tunnel == \"LocalTunnel\":\n",
        "  !sed -i 's/quiet=True,share=True/quiet = True/g' $file_path_ui\n",
        "  # install\n",
        "  !npm install -g localtunnel\n",
        "  import time\n",
        "  import urllib\n",
        "  # run localtunnel\n",
        "  with open('url.txt', 'w') as file:\n",
        "        file.write('')\n",
        "\n",
        "  get_ipython().system_raw('lt --port 7860 >> url.txt 2>&1 &')\n",
        "\n",
        "  time.sleep(4)\n",
        "\n",
        "  endpoint_ip = urllib.request.urlopen('https://ipv4.icanhazip.com').read().decode('utf8').strip(\"\\n\")\n",
        "\n",
        "  with open('url.txt', 'r') as file:\n",
        "      tunnel_url = file.read()\n",
        "      tunnel_url = tunnel_url.replace(\"your url is: \", \"\")\n",
        "\n",
        "  clear_output()\n",
        "  print(f\"LocalTunnel Tunnel Public URL: \\033[0m\\033[93m{tunnel_url}\\033[0m\", end=\"\\033[0m\")\n",
        "\n",
        "  print(f'LocalTunnel Password: {endpoint_ip}')\n",
        "\n",
        "\n",
        "if device==\"cuda\":\n",
        "  !python run.py --execution-providers cuda\n",
        "else:\n",
        "  !python run.py --execution-providers cpu\n"
      ]
    },
    {
      "cell_type": "code",
      "source": [
        "#@markdown # Option 2 : Running On Local\n",
        "#@markdown _See how to Use this option down below_\n",
        "\n",
        "!npm install -g localtunnel\n",
        "!pip install colorama\n",
        "\n",
        "import subprocess\n",
        "import threading\n",
        "import time\n",
        "import socket\n",
        "import urllib.request\n",
        "\n",
        "def iframe_thread(port):\n",
        "    while True:\n",
        "        time.sleep(0.5)\n",
        "        sock= socket.socket(socket.AF_INET, socket.SOCK_STREAM)\n",
        "        result = sock.connect_ex(('127.0.0.1', port))\n",
        "        if result == 0:\n",
        "            break\n",
        "        sock.close()\n",
        "\n",
        "        from colorama import Fore, Style\n",
        "    print (Fore.GREEN + \"\\nIP: \", Fore. RED, urllib.request.urlopen('https://ipv4.icanhazip.com').read().decode('utf8').strip(\"\\n\"), \"\\n\", Style. RESET_ALL)\n",
        "    p = subprocess.Popen([\"lt\", \"--port\", \"{}\".format(port)], stdout=subprocess.PIPE)\n",
        "    for line in p.stdout:\n",
        "        print(line.decode(), end='')\n",
        "threading.Thread (target=iframe_thread, daemon=True, args=(7860,)).start()\n",
        "\n",
        "\n",
        "!python run.py"
      ],
      "metadata": {
        "cellView": "form",
        "id": "cjkYg0sc-FuG"
      },
      "execution_count": null,
      "outputs": []
    },
    {
      "cell_type": "markdown",
      "source": [
        "# Option 2 Guide\n",
        "<div class=\"separator\" style=\"clear: both;\"><a href=\"https://blogger.googleusercontent.com/img/b/R29vZ2xl/AVvXsEjfKACuaL3QHY7poKXKusuCGzfuRlgrHKFXYWvw7ee3IENqCZ82evVXg8kkzFw0OwFEVsZajCQCqXOvsdFWd13sbiS523h6xaLFNMMh-Zh25r4AwxGonsSCqF5nALpsC6m06ckj9O0itxiEDi7-IURP3Wdv6Kp9NdxvFA9humI_bCbc3c9JzcEV7TwodPo/s1600/collage.png\" style=\"display: block; padding: 1em 0px; text-align: center;\"><img alt=\"\" border=\"0\" data-original-height=\"1500\" data-original-width=\"1920\" src=\"https://blogger.googleusercontent.com/img/b/R29vZ2xl/AVvXsEjfKACuaL3QHY7poKXKusuCGzfuRlgrHKFXYWvw7ee3IENqCZ82evVXg8kkzFw0OwFEVsZajCQCqXOvsdFWd13sbiS523h6xaLFNMMh-Zh25r4AwxGonsSCqF5nALpsC6m06ckj9O0itxiEDi7-IURP3Wdv6Kp9NdxvFA9humI_bCbc3c9JzcEV7TwodPo/s1600/collage.png\" /></a></div>"
      ],
      "metadata": {
        "id": "u9P0r-80-JKT"
      }
    }
  ],
  "metadata": {
    "accelerator": "GPU",
    "colab": {
      "provenance": [],
      "gpuType": "T4",
      "include_colab_link": true
    },
    "kernelspec": {
      "display_name": "Python 3",
      "name": "python3"
    },
    "language_info": {
      "name": "python"
    }
  },
  "nbformat": 4,
  "nbformat_minor": 0
}