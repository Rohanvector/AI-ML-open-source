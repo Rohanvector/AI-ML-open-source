{
  "nbformat": 4,
  "nbformat_minor": 0,
  "metadata": {
    "colab": {
      "provenance": [],
      "gpuType": "T4",
      "mount_file_id": "1hXSi8hoTiawRZmc5OG7zrBPgRrEAHJZz",
      "authorship_tag": "ABX9TyMnE0RROIyz/Tl0GcOXa3AW",
      "include_colab_link": true
    },
    "kernelspec": {
      "name": "python3",
      "display_name": "Python 3"
    },
    "language_info": {
      "name": "python"
    },
    "accelerator": "GPU"
  },
  "cells": [
    {
      "cell_type": "markdown",
      "metadata": {
        "id": "view-in-github",
        "colab_type": "text"
      },
      "source": [
        "<a href=\"https://colab.research.google.com/github/Rohanvector/AI-ML-open-source/blob/main/xode.ipynb\" target=\"_parent\"><img src=\"https://colab.research.google.com/assets/colab-badge.svg\" alt=\"Open In Colab\"/></a>"
      ]
    },
    {
      "cell_type": "code",
      "execution_count": 1,
      "metadata": {
        "colab": {
          "base_uri": "https://localhost:8080/"
        },
        "id": "8JUBxcJdS3Lr",
        "outputId": "a1350621-d9c9-454a-f6ea-8928cf767c88"
      },
      "outputs": [
        {
          "output_type": "stream",
          "name": "stdout",
          "text": [
            "Installed!\n"
          ]
        }
      ],
      "source": [
        "from IPython.display import clear_output\n",
        "import torch\n",
        "import os\n",
        "\n",
        "# Check if GPU is available\n",
        "if torch.cuda.is_available():\n",
        "    !apt-get update\n",
        "    !apt-get install -y nvidia-cuda-toolkit\n",
        "    device = \"cuda\"\n",
        "    print(\"Using GPU\")\n",
        "else:\n",
        "    device = \"cpu\"\n",
        "    print(\"Using CPU\")\n",
        "\n",
        "# Skip cloning, assume the folder is already uploaded and accessible\n",
        "\n",
        "# Specify the path to the directory (uploaded folder path)\n",
        "directory = '/content/drive/MyDrive/ff_bahaaai'  # Replace with your actual folder name\n",
        "\n",
        "# Change directory to the project folder\n",
        "%cd $directory\n",
        "\n",
        "# Run the install.py script (same as in your original code)\n",
        "!python install.py --onnxruntime cuda-12.2 --skip-conda\n",
        "\n",
        "clear_output()\n",
        "print(\"Installed!\")\n"
      ]
    },
    {
      "cell_type": "code",
      "source": [
        "import codecs\n",
        "import re\n",
        "import os\n",
        "\n",
        "# Navigate to the project directory\n",
        "directory = '/content/drive/MyDrive/ff_bahaaai'  # Replace with your actual folder name\n",
        "%cd $directory\n",
        "\n",
        "Tunnel = \"Gradio\"\n",
        "\n",
        "# Update the file path to your folder structure\n",
        "file_path_ui = '/content/drive/MyDrive/ff_bahaaai/facesfusion/uis/layouts/default.py'\n",
        "\n",
        "if Tunnel == \"Gradio\":\n",
        "  # Modify the necessary file for Gradio\n",
        "  !sed -i 's/quiet = True/quiet=True,share=True/g' $file_path_ui\n",
        "elif Tunnel == \"Ngrok\":\n",
        "  !sed -i 's/quiet=True,share=True/quiet = True/g' $file_path_ui\n",
        "  !pip install pyngrok\n",
        "  from pyngrok import ngrok\n",
        "  ngrok.set_auth_token(ngrok_tunnel_authtoken)\n",
        "  http_tunnel = ngrok.connect(7860, bind_tls=True)\n",
        "  clear_output()\n",
        "  print(\"Ngrok Tunnel Public URL:\", http_tunnel.public_url)\n",
        "elif Tunnel == \"Cloudfare\":\n",
        "  !sed -i 's/quiet=True,share=True/quiet = True/g' $file_path_ui\n",
        "  !curl -LO https://github.com/cloudflare/cloudflared/releases/latest/download/cloudflared-linux-amd64.deb\n",
        "  !dpkg -i cloudflared-linux-amd64.deb\n",
        "  !rm -rf nohup.out\n",
        "  import time\n",
        "  !nohup cloudflared tunnel --url localhost:7860 &\n",
        "  clear_output()\n",
        "  time.sleep(5)\n",
        "  cloudflare_url = !grep -oE \"https://[a-zA-Z0-9.-]+\\.trycloudflare\\.com\" nohup.out\n",
        "  print(f\"Cloudfare Tunnel Public URL: {cloudflare_url[0]}\")\n",
        "elif Tunnel == \"LocalTunnel\":\n",
        "  !sed -i 's/quiet=True,share=True/quiet = True/g' $file_path_ui\n",
        "  !npm install -g localtunnel\n",
        "  import time\n",
        "  import urllib\n",
        "  with open('url.txt', 'w') as file:\n",
        "        file.write('')\n",
        "\n",
        "  get_ipython().system_raw('lt --port 7860 >> url.txt 2>&1 &')\n",
        "\n",
        "  time.sleep(4)\n",
        "\n",
        "  endpoint_ip = urllib.request.urlopen('https://ipv4.icanhazip.com').read().decode('utf8').strip(\"\\n\")\n",
        "\n",
        "  with open('url.txt', 'r') as file:\n",
        "      tunnel_url = file.read()\n",
        "      tunnel_url = tunnel_url.replace(\"your url is: \", \"\")\n",
        "\n",
        "  clear_output()\n",
        "  print(f\"LocalTunnel Tunnel Public URL: \\033[0m\\033[93m{tunnel_url}\\033[0m\", end=\"\\033[0m\")\n",
        "\n",
        "  print(f'LocalTunnel Password: {endpoint_ip}')\n",
        "\n",
        "# Run the main script based on the available device\n",
        "if device==\"cuda\":\n",
        "  !python run.py --execution-providers cuda\n",
        "else:\n",
        "  !python run.py --execution-providers cpu\n"
      ],
      "metadata": {
        "colab": {
          "base_uri": "https://localhost:8080/"
        },
        "id": "fIihsk3GdLQm",
        "outputId": "fc0e0ea9-594e-4b09-9f80-31c315b98a2e"
      },
      "execution_count": 3,
      "outputs": [
        {
          "output_type": "stream",
          "name": "stdout",
          "text": [
            "/content/drive/MyDrive/ff_bahaaai\n",
            "sed: can't read /content/drive/MyDrive/ff_bahaaai/facesfusion/uis/layouts/default.py: No such file or directory\n",
            "Downloading: 100% 22.5M/22.5M [00:01<00:00, 14.9MB/s]\n",
            "Downloading: 100% 93.4M/93.4M [00:02<00:00, 34.7MB/s]\n",
            "Downloading: 100% 922k/922k [00:01<00:00, 726kB/s]\n",
            "Downloading: 100% 1.26M/1.26M [00:01<00:00, 1.02MB/s]\n",
            "Downloading: 100% 12.1M/12.1M [00:01<00:00, 8.06MB/s]\n",
            "Downloading: 100% 166M/166M [00:03<00:00, 43.9MB/s]\n",
            "Downloading: 100% 67.1M/67.1M [00:02<00:00, 30.2MB/s]\n",
            "Downloading: 100% 50.7M/50.7M [00:02<00:00, 25.0MB/s]\n",
            "Downloading: 100% 63.7M/63.7M [00:02<00:00, 30.2MB/s]\n",
            "Downloading: 100% 265M/265M [00:06<00:00, 45.5MB/s]\n",
            "Running on local URL:  http://127.0.0.1:7860\n",
            "Exception ignored in atexit callback: <bound method TMonitor.exit of <TMonitor(Thread-1, stopped daemon 139067961214528)>>\n",
            "Traceback (most recent call last):\n",
            "  File \"/usr/local/lib/python3.10/dist-packages/tqdm/_monitor.py\", line 44, in exit\n",
            "    self.join()\n",
            "  File \"/usr/lib/python3.10/threading.py\", line 1096, in join\n",
            "    self._wait_for_tstate_lock()\n",
            "  File \"/usr/lib/python3.10/threading.py\", line 1116, in _wait_for_tstate_lock\n",
            "    if lock.acquire(block, timeout):\n",
            "  File \"/content/drive/MyDrive/ff_bahaaai/facefusion/core.py\", line 36, in <lambda>\n",
            "    signal.signal(signal.SIGINT, lambda signal_number, frame: destroy())\n",
            "  File \"/content/drive/MyDrive/ff_bahaaai/facefusion/core.py\", line 243, in destroy\n",
            "    sys.exit(0)\n",
            "SystemExit: 0\n"
          ]
        }
      ]
    },
    {
      "cell_type": "code",
      "source": [
        "!npm install -g localtunnel\n",
        "!pip install colorama\n",
        "\n",
        "import subprocess\n",
        "import threading\n",
        "import time\n",
        "import socket\n",
        "import urllib.request\n",
        "from colorama import Fore, Style\n",
        "\n",
        "def iframe_thread(port):\n",
        "    while True:\n",
        "        time.sleep(0.5)\n",
        "        sock = socket.socket(socket.AF_INET, socket.SOCK_STREAM)\n",
        "        result = sock.connect_ex(('127.0.0.1', port))\n",
        "        if result == 0:\n",
        "            break\n",
        "        sock.close()\n",
        "\n",
        "    # Get public IP and print it\n",
        "    print(Fore.GREEN + \"\\nIP: \", Fore.RED, urllib.request.urlopen('https://ipv4.icanhazip.com').read().decode('utf8').strip(\"\\n\"), \"\\n\", Style.RESET_ALL)\n",
        "\n",
        "    # Start the localtunnel\n",
        "    p = subprocess.Popen([\"lt\", \"--port\", \"{}\".format(port)], stdout=subprocess.PIPE)\n",
        "    for line in p.stdout:\n",
        "        print(line.decode(), end='')\n",
        "\n",
        "# Start the thread to check port 7860\n",
        "threading.Thread(target=iframe_thread, daemon=True, args=(7860,)).start()\n",
        "\n",
        "# Navigate to the folder where your code is located\n",
        "directory = '/content/drive/MyDrive/ff_bahaaai'  # Change this to your actual project folder\n",
        "%cd $directory\n",
        "\n",
        "# Run the app (replace this with the correct run command, if needed)\n",
        "!python run.py\n"
      ],
      "metadata": {
        "colab": {
          "base_uri": "https://localhost:8080/"
        },
        "id": "46MsMnEwg3z4",
        "outputId": "0c6d07d3-b9f8-4a4b-efb5-d12203a9a198"
      },
      "execution_count": null,
      "outputs": [
        {
          "output_type": "stream",
          "name": "stdout",
          "text": [
            "\u001b[K\u001b[?25h\n",
            "added 22 packages, and audited 23 packages in 2s\n",
            "\n",
            "3 packages are looking for funding\n",
            "  run `npm fund` for details\n",
            "\n",
            "1 \u001b[33m\u001b[1mmoderate\u001b[22m\u001b[39m severity vulnerability\n",
            "\n",
            "To address all issues (including breaking changes), run:\n",
            "  npm audit fix --force\n",
            "\n",
            "Run `npm audit` for details.\n",
            "Collecting colorama\n",
            "  Downloading colorama-0.4.6-py2.py3-none-any.whl.metadata (17 kB)\n",
            "Downloading colorama-0.4.6-py2.py3-none-any.whl (25 kB)\n",
            "Installing collected packages: colorama\n",
            "Successfully installed colorama-0.4.6\n",
            "/content/drive/MyDrive/ff_bahaaai\n",
            "Running on local URL:  http://127.0.0.1:7860\n",
            "\u001b[32m\n",
            "IP:  \u001b[31m 34.142.158.100 \n",
            " \u001b[0m\n",
            "your url is: https://tough-bees-drum.loca.lt\n"
          ]
        }
      ]
    }
  ]
}